{
 "cells": [
  {
   "cell_type": "code",
   "execution_count": 2,
   "metadata": {},
   "outputs": [],
   "source": [
    "import numpy as np\n",
    "from scipy.optimize import minimize"
   ]
  },
  {
   "cell_type": "code",
   "execution_count": 3,
   "metadata": {},
   "outputs": [],
   "source": [
    "def objective(x):\n",
    "    x1 = x[0]\n",
    "    x2 = x[1]\n",
    "    x3 = x[2]\n",
    "    x4 = x[3]\n",
    "    x5 = x[4]\n",
    "    return (x1-x2)**2 + (x2+x3-2)**2 + (x4-1)**2 + (x5-1)**2\n",
    "\n",
    "def constraint1(x):\n",
    "    return x[0] + 3*x[1]\n",
    "\n",
    "def constraint2(x):\n",
    "    return x[2] + x[3] - 2*x[4]\n",
    "    \n",
    "def constraint3(x):\n",
    "    return x[1] - x[4]"
   ]
  },
  {
   "cell_type": "code",
   "execution_count": 9,
   "metadata": {},
   "outputs": [],
   "source": [
    "b = (-10,10)\n",
    "bnds = (b,b,b,b,b)\n",
    "const1 = {'type': 'eq','fun': constraint1}\n",
    "const2 = {'type': 'eq','fun': constraint2}\n",
    "const3 = {'type': 'eq','fun': constraint3}\n",
    "consts = [const1,const2,const3]"
   ]
  },
  {
   "cell_type": "code",
   "execution_count": 10,
   "metadata": {},
   "outputs": [
    {
     "name": "stdout",
     "output_type": "stream",
     "text": [
      "0\n"
     ]
    }
   ],
   "source": [
    "x0 = [1,1,1,1,1]\n",
    "print(objective(x0))"
   ]
  },
  {
   "cell_type": "code",
   "execution_count": 12,
   "metadata": {},
   "outputs": [
    {
     "name": "stdout",
     "output_type": "stream",
     "text": [
      "[-0.76749312  0.25583104  0.62795044 -0.11628835  0.25583104]\n",
      "4.09302326452976\n"
     ]
    }
   ],
   "source": [
    "sol = minimize(objective,x0,method='SLSQP',bounds=bnds,constraints=consts)\n",
    "print(sol.x)\n",
    "print(sol.fun)"
   ]
  }
 ],
 "metadata": {
  "kernelspec": {
   "display_name": "Python 3.9.7 ('base')",
   "language": "python",
   "name": "python3"
  },
  "language_info": {
   "codemirror_mode": {
    "name": "ipython",
    "version": 3
   },
   "file_extension": ".py",
   "mimetype": "text/x-python",
   "name": "python",
   "nbconvert_exporter": "python",
   "pygments_lexer": "ipython3",
   "version": "3.9.7"
  },
  "orig_nbformat": 4,
  "vscode": {
   "interpreter": {
    "hash": "4b2f2e3fd142d7e1020a48a209fec823bcec284cbb132b39914365852030c54f"
   }
  }
 },
 "nbformat": 4,
 "nbformat_minor": 2
}
