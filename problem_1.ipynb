{
  "nbformat": 4,
  "nbformat_minor": 0,
  "metadata": {
    "colab": {
      "name": "problem_1.ipynb",
      "provenance": [],
      "authorship_tag": "ABX9TyM/LE6CNW76Bhz6+0MJLgTi",
      "include_colab_link": true
    },
    "kernelspec": {
      "name": "python3",
      "display_name": "Python 3"
    },
    "language_info": {
      "name": "python"
    }
  },
  "cells": [
    {
      "cell_type": "markdown",
      "metadata": {
        "id": "view-in-github",
        "colab_type": "text"
      },
      "source": [
        "<a href=\"https://colab.research.google.com/github/arshnoor23/Assignment_1/blob/main/problem_1.ipynb\" target=\"_parent\"><img src=\"https://colab.research.google.com/assets/colab-badge.svg\" alt=\"Open In Colab\"/></a>"
      ]
    },
    {
      "cell_type": "code",
      "execution_count": 1,
      "metadata": {
        "id": "sJfYNRGOHVvL"
      },
      "outputs": [],
      "source": [
        "import numpy as np\n",
        "from scipy.optimize import minimize"
      ]
    },
    {
      "cell_type": "code",
      "source": [
        "def objective(x):\n",
        "    x1 = x[0]\n",
        "    x2 = x[1]\n",
        "    x3 = x[2]\n",
        "    x4 = x[3]\n",
        "    x5 = x[4]\n",
        "    return (x1-x2)**2 + (x2+x3-2)**2 + (x4-1)**2 + (x5-1)**2\n",
        "\n",
        "def constraint1(x):\n",
        "    return x[0] + 3*x[1]\n",
        "\n",
        "def constraint2(x):\n",
        "    return x[2] + x[3] - 2*x[4]\n",
        "    \n",
        "def constraint3(x):\n",
        "    return x[1] - x[4]"
      ],
      "metadata": {
        "id": "Sj47p2yzHxQ3"
      },
      "execution_count": 2,
      "outputs": []
    },
    {
      "cell_type": "code",
      "source": [
        "b = (-10,10)\n",
        "bnds = (b,b,b,b,b)\n",
        "const1 = {'type': 'eq','fun': constraint1}\n",
        "const2 = {'type': 'eq','fun': constraint2}\n",
        "const3 = {'type': 'eq','fun': constraint3}\n",
        "consts = [const1,const2,const3]"
      ],
      "metadata": {
        "id": "m8xi4AElHzFz"
      },
      "execution_count": 3,
      "outputs": []
    },
    {
      "cell_type": "code",
      "source": [
        "x0 = [1,1,1,1,1]\n",
        "print(objective(x0))"
      ],
      "metadata": {
        "colab": {
          "base_uri": "https://localhost:8080/"
        },
        "id": "tKF9bK8RH1yL",
        "outputId": "e0e6f6ae-4606-4655-f19d-b69937e82f71"
      },
      "execution_count": 4,
      "outputs": [
        {
          "output_type": "stream",
          "name": "stdout",
          "text": [
            "0\n"
          ]
        }
      ]
    },
    {
      "cell_type": "code",
      "source": [
        "sol = minimize(objective,x0,method='SLSQP',bounds=bnds,constraints=consts)\n",
        "print(sol.x)\n",
        "print(sol.fun)"
      ],
      "metadata": {
        "colab": {
          "base_uri": "https://localhost:8080/"
        },
        "id": "m1KS76J8H3rW",
        "outputId": "3278bf42-21a9-4391-dedf-76c54227f733"
      },
      "execution_count": 5,
      "outputs": [
        {
          "output_type": "stream",
          "name": "stdout",
          "text": [
            "[-0.76749312  0.25583104  0.62795044 -0.11628835  0.25583104]\n",
            "4.09302326452976\n"
          ]
        }
      ]
    }
  ]
}