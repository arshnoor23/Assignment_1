{
  "nbformat": 4,
  "nbformat_minor": 0,
  "metadata": {
    "colab": {
      "name": "problem_1.ipynb",
      "provenance": [],
      "authorship_tag": "ABX9TyMxbWQmO8ByJGwwETq6tjkR",
      "include_colab_link": true
    },
    "kernelspec": {
      "name": "python3",
      "display_name": "Python 3"
    },
    "language_info": {
      "name": "python"
    }
  },
  "cells": [
    {
      "cell_type": "markdown",
      "metadata": {
        "id": "view-in-github",
        "colab_type": "text"
      },
      "source": [
        "<a href=\"https://colab.research.google.com/github/arshnoor23/Assignment_1/blob/main/problem_1.ipynb\" target=\"_parent\"><img src=\"https://colab.research.google.com/assets/colab-badge.svg\" alt=\"Open In Colab\"/></a>"
      ]
    },
    {
      "cell_type": "markdown",
      "source": [
        "# Arshnoor Singh Sachdeva\n",
        "## 1222482300\n",
        "### Problem 1"
      ],
      "metadata": {
        "id": "m31bYG7pbX03"
      }
    },
    {
      "cell_type": "markdown",
      "source": [
        "Importing all the important libraries"
      ],
      "metadata": {
        "id": "Hydh39NAbvk4"
      }
    },
    {
      "cell_type": "code",
      "execution_count": 21,
      "metadata": {
        "id": "sJfYNRGOHVvL"
      },
      "outputs": [],
      "source": [
        "import numpy as np\n",
        "from scipy.optimize import minimize\n",
        "import random"
      ]
    },
    {
      "cell_type": "markdown",
      "source": [
        "Defining objective functions and the three constraints"
      ],
      "metadata": {
        "id": "WAwrRxNHb29d"
      }
    },
    {
      "cell_type": "code",
      "source": [
        "def objective(x):\n",
        "    x1 = x[0]\n",
        "    x2 = x[1]\n",
        "    x3 = x[2]\n",
        "    x4 = x[3]\n",
        "    x5 = x[4]\n",
        "    return (x1-x2)**2 + (x2+x3-2)**2 + (x4-1)**2 + (x5-1)**2\n",
        "\n",
        "def constraint1(x):\n",
        "    return x[0] + 3*x[1]\n",
        "\n",
        "def constraint2(x):\n",
        "    return x[2] + x[3] - 2*x[4]\n",
        "    \n",
        "def constraint3(x):\n",
        "    return x[1] - x[4]"
      ],
      "metadata": {
        "id": "Sj47p2yzHxQ3"
      },
      "execution_count": 22,
      "outputs": []
    },
    {
      "cell_type": "markdown",
      "source": [
        "Defining the bounds and the type of constraints"
      ],
      "metadata": {
        "id": "7KtkHqavcQF8"
      }
    },
    {
      "cell_type": "code",
      "source": [
        "b = (-10,10)\n",
        "bnds = (b,b,b,b,b)\n",
        "const1 = {'type': 'eq','fun': constraint1}\n",
        "const2 = {'type': 'eq','fun': constraint2}\n",
        "const3 = {'type': 'eq','fun': constraint3}\n",
        "consts = [const1,const2,const3]"
      ],
      "metadata": {
        "id": "m8xi4AElHzFz"
      },
      "execution_count": 23,
      "outputs": []
    },
    {
      "cell_type": "markdown",
      "source": [
        "First Initial Guess"
      ],
      "metadata": {
        "id": "S_3Wg2gGcR1Y"
      }
    },
    {
      "cell_type": "code",
      "source": [
        "x0 = [0,0,0,0,0]"
      ],
      "metadata": {
        "id": "tKF9bK8RH1yL"
      },
      "execution_count": 24,
      "outputs": []
    },
    {
      "cell_type": "code",
      "source": [
        "sol = minimize(objective,x0,method='SLSQP',bounds=bnds,constraints=consts)\n",
        "print(\"The values of the variables is: \",sol.x)\n",
        "print(\"The minimum value of the function is: \",sol.fun)"
      ],
      "metadata": {
        "colab": {
          "base_uri": "https://localhost:8080/"
        },
        "id": "m1KS76J8H3rW",
        "outputId": "82e6c0d7-2ece-4e15-a4ca-ff5f5473b357"
      },
      "execution_count": 25,
      "outputs": [
        {
          "output_type": "stream",
          "name": "stdout",
          "text": [
            "The values of the variables is:  [-0.76744186  0.25581395  0.62790698 -0.11627907  0.25581395]\n",
            "The minimum value of the function is:  4.093023255813954\n"
          ]
        }
      ]
    },
    {
      "cell_type": "markdown",
      "source": [
        "New Initial Guess"
      ],
      "metadata": {
        "id": "rZQU0_s6csNj"
      }
    },
    {
      "cell_type": "code",
      "source": [
        "for i in range(1,5):\n",
        "    X0 = [random.randint(-10,10),random.randint(-10,10),random.randint(-10,10),random.randint(-10,10),random.randint(-10,10)]\n",
        "    sol = minimize(objective,X0,method='SLSQP',bounds=bnds,constraints=consts)\n",
        "    print(\"Initial Guess: \",X0)\n",
        "    print(\"Value of the variables at minima: \",sol.x)\n",
        "    print(\"The minimum value of the function is: \",sol.fun)\n",
        "    print(\"====================================\")"
      ],
      "metadata": {
        "colab": {
          "base_uri": "https://localhost:8080/"
        },
        "id": "uF609nKgcrgb",
        "outputId": "cf7f2a04-1ea1-4777-b298-5edd2cb4bb88"
      },
      "execution_count": 27,
      "outputs": [
        {
          "output_type": "stream",
          "name": "stdout",
          "text": [
            "Initial Guess:  [-1, 1, 2, 10, 4]\n",
            "Value of the variables at minima:  [-0.76756216  0.25585405  0.62783609 -0.11612798  0.25585405]\n",
            "The minimum value of the function is:  4.093023306925128\n",
            "====================================\n",
            "Initial Guess:  [0, 7, 1, 6, 6]\n",
            "Value of the variables at minima:  [-0.76779645  0.25593215  0.62827348 -0.11640918  0.25593215]\n",
            "The minimum value of the function is:  4.0930237451663904\n",
            "====================================\n",
            "Initial Guess:  [-10, -7, -6, 8, -7]\n",
            "Value of the variables at minima:  [-0.76765841  0.25588614  0.62764775 -0.11587547  0.25588614]\n",
            "The minimum value of the function is:  4.093023542270067\n",
            "====================================\n",
            "Initial Guess:  [0, 2, 9, -7, -2]\n",
            "Value of the variables at minima:  [-0.76747369  0.25582456  0.62792043 -0.1162713   0.25582456]\n",
            "The minimum value of the function is:  4.093023258367706\n",
            "====================================\n"
          ]
        }
      ]
    },
    {
      "cell_type": "markdown",
      "source": [
        "#Impact of Initial Guesses:\n",
        "As we can see from above results, the minimum value of the function and the variables x1,x2,x3,x4,x5 donot change when the initial guesses are changed, we can conclude that Initial Guesses DONOT influence this problem.\n",
        "\n"
      ],
      "metadata": {
        "id": "gE4pHoeahuez"
      }
    }
  ]
}